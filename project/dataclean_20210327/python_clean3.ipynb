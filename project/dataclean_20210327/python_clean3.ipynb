{
 "cells": [
  {
   "cell_type": "markdown",
   "metadata": {},
   "source": [
    "# clean data"
   ]
  },
  {
   "cell_type": "markdown",
   "metadata": {},
   "source": [
    "## import library"
   ]
  },
  {
   "cell_type": "code",
   "execution_count": 581,
   "metadata": {},
   "outputs": [],
   "source": [
    "import re\n",
    "import csv\n",
    "import numpy as np\n",
    "import pandas as pd"
   ]
  },
  {
   "cell_type": "markdown",
   "metadata": {},
   "source": [
    "## column index name"
   ]
  },
  {
   "cell_type": "code",
   "execution_count": 582,
   "metadata": {},
   "outputs": [],
   "source": [
    "DIC_TITLE_INDEX = {\"Admin\": 0,\"bank\" : 0, \"trade\" : 0, \"ceo\":0,\"community_service\" : 0,\"construction\":0,\"design\" :0, \"edu\" : 0,\"manufacture\": 0, \"acct\" : 0, \"advertising\": 0,\"call\" : 0,  \"consult\" : 0 }\n",
    "DIC_LINK_INDEX = {\"Admin\": 1,\"bank\" : 1, \"trade\" : 1, \"ceo\":1,\"community_service\" : 1,\"construction\":1,\"design\" :1, \"edu\" : 1,\"manufacture\": 1, \"acct\" : 1, \"advertising\": 1,\"call\" : 1,  \"consult\" : 1 }\n",
    "DIC_COMPANY_INDEX = {\"Admin\": 2,\"bank\" : 2, \"trade\" : 2, \"ceo\":2,\"community_service\" : 2,\"construction\":2,\"design\" :2, \"edu\" : 2,\"manufacture\": 2, \"acct\" : 2, \"advertising\": 2,\"call\" : 2,  \"consult\" : 2 }\n",
    "DIC_LOCATION_INDEX = {\"Admin\": 3,\"bank\" : 3, \"trade\" : 3, \"ceo\":3,\"community_service\" : 3,\"construction\":3,\"design\" :3, \"edu\" : 3,\"manufacture\": 3, \"acct\" : 3, \"advertising\": 3,\"call\" : 3,  \"consult\" : 3 }\n",
    "DIC_POST_DAY_INDEX ={\"Admin\": 4,\"bank\" : 5, \"trade\" : 5, \"ceo\":5,\"construction\":5,\"design\" :5, \"edu\" : 5,\"manufacture\": 5, \"acct\" : 5, \"advertising\":6 ,\"call\" : 5,  \"consult\" : 5 }\n",
    "DIC_CLASSI_INDEX ={\"Admin\": 5,\"bank\" : 4, \"trade\" : 6, \"ceo\":4,\"community_service\" : 5,\"construction\":6,\"design\" :6, \"edu\" : 4,\"manufacture\": 4, \"acct\" : 4, \"advertising\": 5,\"call\" : 4,  \"consult\" : 4 }\n",
    "DIC_SALARY_INDEX  ={\"edu\":6,'manufacture':6,\"acct\" : 6,\"advertising\": 4,\"call\" : 6,\"consult\" : 4 }\n",
    "LOCATION_INDEX = len('location:')\n",
    "CLASSIFICATION_INDEX = len('classification:')\n"
   ]
  },
  {
   "cell_type": "markdown",
   "metadata": {},
   "source": [
    "## read data"
   ]
  },
  {
   "cell_type": "code",
   "execution_count": 583,
   "metadata": {},
   "outputs": [],
   "source": [
    "def read_data(file_path,job_name):\n",
    "    \"\"\"read csv_file with no header, then call each action of function\"\"\"\n",
    "    csv_new =pd.read_csv(file_path,header= None)\n",
    "    csv_new = csv_new.drop(csv_new.index[0])\n",
    "    csv_new = clean_loc_and_area(csv_new,DIC_LOCATION_INDEX[job_name] )\n",
    "    csv_new =  clean_salary(csv_new,DIC_CLASSI_INDEX[job_name])\n",
    "    csv_new = clean_classification(csv_new,DIC_CLASSI_INDEX[job_name])\n",
    "    csv_new = post_and_feature(csv_new, DIC_POST_INDEX[job_name])\n",
    "    return csv_new"
   ]
  },
  {
   "cell_type": "markdown",
   "metadata": {},
   "source": [
    "## clean the location and area column"
   ]
  },
  {
   "cell_type": "code",
   "execution_count": 584,
   "metadata": {},
   "outputs": [],
   "source": [
    "def clean_loc_and_area(csv_new, index = 3):\n",
    "    \n",
    "    '''\n",
    "    the funcation used to get rid of \"location: \" value, and also split the location into two piece,\n",
    "    fill NA in the area and location column.Then, get rid of salary information in the location column,\n",
    "    for example, #eg. abcabc,$23 per hour.\n",
    "    Next, get rid of word \"area\" in the area column, then drop it.\n",
    "    Finally, call duplicate area function.\n",
    "    '''\n",
    "    \n",
    "    csv_new[index] = csv_new[index].apply(lambda x:x[LOCATION_INDEX:])\n",
    "    csv_new[['area','location']] = csv_new[index].str.split(': ', expand = True)\n",
    "    csv_new['location'].fillna('unknown',inplace = True)\n",
    "    csv_new['area'].fillna('unknown',inplace = True)\n",
    "    csv_new['location'] = csv_new['location'].replace('(\\,[\\s\\S]*)',\"\",regex = True)\n",
    "    csv_new.drop(columns = [index],inplace = True)\n",
    "    csv_new['location']= csv_new['location'].apply(dulplicate_loc)\n",
    "    \n",
    "    \n",
    "    csv_new['area'] = csv_new['area'].replace('(area$)',\"\",regex = True)\n",
    "    csv_new['area'] = csv_new['area'].apply(dulplicate_area)\n",
    "    \n",
    "   \n",
    "    \n",
    "    return csv_new"
   ]
  },
  {
   "cell_type": "markdown",
   "metadata": {},
   "source": [
    "## clean the dulplicate value in the location column"
   ]
  },
  {
   "cell_type": "code",
   "execution_count": 585,
   "metadata": {},
   "outputs": [],
   "source": [
    "def dulplicate_loc(column):\n",
    "    '''\n",
    "    clean the dulplicate value in the location column\n",
    "    '''\n",
    "    mid = len(column)//2\n",
    "    if column == 'unknown':\n",
    "        return 'unknown'\n",
    "    else:\n",
    "        return column[mid:]"
   ]
  },
  {
   "cell_type": "markdown",
   "metadata": {},
   "source": [
    "## clean the dulplicate value in the area column"
   ]
  },
  {
   "cell_type": "code",
   "execution_count": 586,
   "metadata": {},
   "outputs": [],
   "source": [
    "def dulplicate_area(column):\n",
    "    '''\n",
    "    clean the dulplicate value in the area column\n",
    "    '''\n",
    "    mid = len(column)//2\n",
    "    if column == 'unknown':\n",
    "        return 'unknown'\n",
    "    else:\n",
    "        return column[mid+1:]"
   ]
  },
  {
   "cell_type": "markdown",
   "metadata": {},
   "source": [
    "## clean the salary column"
   ]
  },
  {
   "cell_type": "code",
   "execution_count": 587,
   "metadata": {},
   "outputs": [],
   "source": [
    "def clean_salary(csv_new,index):\n",
    "    '''\n",
    "    First, find salary information in the classification column by using salary funcation.\n",
    "    Then, clean the salary column,split salary collumn into two pieces that are called high salary\n",
    "    and low salary.\n",
    "    Then extract number that what we want in the low_salary and high_salary column.\n",
    "    If the low _salary is unknown, high_salary has a number, then put number also in the low_salary column.\n",
    "    If the high_salary is unknown, low_salary has a number, then put number also in the high_salary column.\n",
    "    Next, transfer low_salary and high_salary type.\n",
    "    Count salary for a year in the low salary and high salary column.\n",
    "    Finally, fill NA in the low salary and high salary column.\n",
    "    '''\n",
    "    \n",
    "    csv_new['salary']= csv_new[index].apply(salary)\n",
    "    \n",
    "    csv_new['salary'] = csv_new[csv_new['salary'].str.contains('\\d', na= False)]['salary'].str.replace('to','-',regex = True)\n",
    "    csv_new['salary'] = csv_new[csv_new['salary'].str.contains('\\d',na = False)]['salary'].str.replace('k','000',regex = True)\n",
    "    csv_new['salary'] = csv_new[csv_new['salary'].str.contains('\\d',na = False)]['salary'].str.replace(',','',regex = True)\n",
    "    csv_new['salary'] = csv_new[csv_new['salary'].str.contains('\\d',na = False)]['salary'].str.replace('\\d\\%','',regex = True)\n",
    "    \n",
    "    csv_new['salary'] = csv_new['salary'].fillna('unknown')\n",
    "    \n",
    "    csv_new[['low_salary','high_salary']] = csv_new['salary'].str.split('-',n = 1, expand = True)\n",
    "    csv_new[['low_salary','high_salary']]=csv_new[['low_salary','high_salary']].fillna('unknown')\n",
    "    \n",
    "    csv_new['low_salary'] = csv_new['low_salary'].str.extract(r'(\\d+\\.\\d+|\\d+ \\d+|\\d+)',expand = False)\n",
    "    csv_new['high_salary'] = csv_new['high_salary'].str.extract(r'(\\d+\\.\\d+|\\d+ \\d+|\\d+)',expand = False) \n",
    "    \n",
    "    csv_new['low_salary'] = csv_new[csv_new['low_salary'].str.contains('\\d',na= False)]['low_salary'].str.replace(' ','',regex = True)\n",
    "    csv_new['high_salary'] = csv_new[csv_new['high_salary'].str.contains('\\d',na= False)]['high_salary'].str.replace(' ','',regex = True)\n",
    "    \n",
    "    csv_new.loc[csv_new['low_salary']=='unknown','low_salary'] = csv_new['high_salary']\n",
    "    csv_new.loc[csv_new['high_salary']=='unknown','high_salary'] = csv_new['low_salary']\n",
    "    \n",
    "    csv_new['low_salary'] = csv_new['low_salary'].astype('float32')\n",
    "    csv_new['high_salary'] = csv_new['high_salary'].astype('float32')\n",
    "    \n",
    "    csv_new.loc[csv_new['low_salary'] < 50, 'low_salary'] = csv_new['low_salary'] * 8*200\n",
    "    csv_new.loc[csv_new['high_salary'] < 50, 'high_salary'] = csv_new['high_salary'] * 8*200\n",
    "    \n",
    "    csv_new['low_salary']=csv_new['low_salary'].fillna('unknown')\n",
    "    csv_new['high_salary']=csv_new['high_salary'].fillna('unknown')\n",
    "    \n",
    "    \n",
    "    \n",
    "    return csv_new"
   ]
  },
  {
   "cell_type": "markdown",
   "metadata": {},
   "source": [
    "## find salary value in the classification column"
   ]
  },
  {
   "cell_type": "code",
   "execution_count": 588,
   "metadata": {},
   "outputs": [],
   "source": [
    "def salary(column):\n",
    "    '''\n",
    "    find salary value in the classification column\n",
    "    '''\n",
    "    if \"classification\" in column:\n",
    "        return 'unknown'\n",
    "    else:\n",
    "        return column"
   ]
  },
  {
   "cell_type": "markdown",
   "metadata": {},
   "source": [
    "## clean the classification column"
   ]
  },
  {
   "cell_type": "code",
   "execution_count": 589,
   "metadata": {},
   "outputs": [],
   "source": [
    "def clean_classification(csv_new, index):\n",
    "    '''\n",
    "    The function is used to clean the classification column.\n",
    "    Firstly, we use the classi funcation, to get rid of the column has salary information.\n",
    "    Then, we fill NA value to unknown in the classification column. \n",
    "    Next, we split the collumn by 'subclassification: ' into two pieces that are 'classification_change'\n",
    "    and 'classification'column.\n",
    "    We call the duplicate_classi funcation to clean the dulplicate value in the classification column\n",
    "    Then, get rid of 'classificaiton:' in the classification column.And split the classification_change into 3pieces.\n",
    "    Drop the original one.\n",
    "    In addition, fill NA value in the classification1, classification2, classification3 and company column\n",
    "    Finally, call the random1 funcation to estimate salary in the high_salary and low_salary column.\n",
    "    \n",
    "    '''\n",
    "    \n",
    "    \n",
    "    csv_new['classification']=csv_new[index].apply(classifi)\n",
    "    \n",
    "    csv_new['classification'] = csv_new['classification'].fillna('unknown')\n",
    "    \n",
    "    csv_new[['classification_change','classification']] = csv_new['classification'].str.split('subClassification: ',expand =True)\n",
    "    \n",
    "    csv_new['classification']=csv_new['classification'].fillna('unknown')\n",
    "    csv_new['classification'] = csv_new['classification'].apply(dulplicate_classi)\n",
    "    csv_new['classification_change'] = csv_new['classification_change'].apply(lambda x:x[CLASSIFICATION_INDEX:])\n",
    "    csv_new[['classification1','classification2','classification3']] = csv_new['classification_change'].str.split(' & ',expand = True)\n",
    "    csv_new.drop(columns = ['classification_change',index], inplace = True)\n",
    "    \n",
    "    csv_new['classification1']= csv_new['classification1'].fillna('unknown')\n",
    "    csv_new['classification2']= csv_new['classification2'].fillna('unknown')\n",
    "    csv_new['classification3']= csv_new['classification3'].fillna('unknown')\n",
    "    \n",
    "    csv_new['high_salary']= random1(csv_new['high_salary'])\n",
    "    csv_new['low_salary'] = random1(csv_new['low_salary'])\n",
    "    \n",
    "    \n",
    "    csv_new['company'] = csv_new[2].fillna('unknown')\n",
    "    \n",
    "    \n",
    "    \n",
    "    return csv_new\n",
    "    \n",
    "    "
   ]
  },
  {
   "cell_type": "markdown",
   "metadata": {},
   "source": [
    "## estimate salary for unknown value in the low and high salary column."
   ]
  },
  {
   "cell_type": "code",
   "execution_count": 590,
   "metadata": {},
   "outputs": [],
   "source": [
    "def random1(column):\n",
    "    '''\n",
    "    Random select number from $45000 and $75000.\n",
    "    Search on the website the salary range for the most of the job is between $45000 and $75000\n",
    "    \n",
    "    '''\n",
    "    np.random.randint(45000,75000,size = 1)\n",
    "    for index1, row in enumerate(column.values):\n",
    "        if row == \"unknown\":\n",
    "            column[index1] = np.random.randint(45000, 75000,size = 1 )[0]\n",
    "    return column[index1]\n",
    "   \n",
    "            "
   ]
  },
  {
   "cell_type": "markdown",
   "metadata": {},
   "source": [
    "## clean the classification column"
   ]
  },
  {
   "cell_type": "code",
   "execution_count": 591,
   "metadata": {},
   "outputs": [],
   "source": [
    "# clean out $23- $25 per hour\n",
    "def classifi(a):\n",
    "    '''\n",
    "    clean salary information in the classification column.\n",
    "    '''\n",
    "    if \"classification\" not in a :\n",
    "        return None\n",
    "    else:\n",
    "        return a "
   ]
  },
  {
   "cell_type": "markdown",
   "metadata": {},
   "source": [
    "## clean the dulplicate value in the classification collumn"
   ]
  },
  {
   "cell_type": "code",
   "execution_count": 592,
   "metadata": {},
   "outputs": [],
   "source": [
    "def dulplicate_classi(a):\n",
    "    '''\n",
    "    clean the dulplicate value in the classification column\n",
    "    '''\n",
    "    mid = len(a)//2\n",
    "    if a == 'unknown':\n",
    "        return 'unknown'\n",
    "    else:\n",
    "        return a[mid:]"
   ]
  },
  {
   "cell_type": "markdown",
   "metadata": {},
   "source": [
    "## clean the post_time and feature column"
   ]
  },
  {
   "cell_type": "code",
   "execution_count": 593,
   "metadata": {},
   "outputs": [],
   "source": [
    "\n",
    "def post_and_feature(csv_new, index):\n",
    "    \n",
    "    '''\n",
    "    split the post time column into two pieces that are 'post_time' and 'feature_at' column.\n",
    "    fill NA value in the post_time and feature_at column\n",
    "    extract day post time in the post_time column,for example, 21d ago change to 21d\n",
    "    transfer the post_time to string.\n",
    "    Finally ,use the post_time funcation to extract number in the post_time column,\n",
    "    and drop the original column\n",
    "    '''\n",
    "    csv_new[['post_time','feature_at']] = csv_new[index].str.split(',at,', expand = True)\n",
    "    \n",
    "    csv_new['post_time']= csv_new['post_time'].fillna('unknown')\n",
    "    csv_new['feature_at'] = csv_new['feature_at'].fillna('unknown')\n",
    "    \n",
    "    csv_new['post_time']= csv_new['post_time'].str.extract('(\\d+[a-z]+)',expand = False)\n",
    "    \n",
    "    csv_new['post_time'] = csv_new['post_time'].astype('str')\n",
    "    csv_new['post_time'] = csv_new['post_time'].apply(post_time)\n",
    "    \n",
    "    csv_new.drop(columns = [index],inplace = True)\n",
    "    return csv_new\n"
   ]
  },
  {
   "cell_type": "markdown",
   "metadata": {},
   "source": [
    "## extract number in the post_time column"
   ]
  },
  {
   "cell_type": "code",
   "execution_count": 594,
   "metadata": {},
   "outputs": [],
   "source": [
    "def post_time(a):\n",
    "    '''\n",
    "    extract time number posted based on day.\n",
    "    '''\n",
    "    if 'd' in a:\n",
    "        find1 = int(a.index('d'))\n",
    "        return -int(a[:find1])\n",
    "    elif \"m\" in a:\n",
    "        find2 = a.index('m')\n",
    "        final = -int(a[:find2]) *30\n",
    "        return final \n",
    "    else:\n",
    "        return 0\n"
   ]
  },
  {
   "cell_type": "code",
   "execution_count": 595,
   "metadata": {},
   "outputs": [
    {
     "name": "stdout",
     "output_type": "stream",
     "text": [
      "                                         0  \\\n",
      "1                            Administrator   \n",
      "2                             Receptionist   \n",
      "3             Prosecutions Support Officer   \n",
      "4     Early Childhood Centre Administrator   \n",
      "5           Business Support Administrator   \n",
      "...                                    ...   \n",
      "2704                   Key Account Manager   \n",
      "2705                   Executive Assistant   \n",
      "2706                Temporary Office Roles   \n",
      "2707                Temporary Office Roles   \n",
      "2708                   Executive Assistant   \n",
      "\n",
      "                                                      1  \\\n",
      "1     https://www.seek.co.nz/job/50582301?type=promo...   \n",
      "2     https://www.seek.co.nz/job/50620889?type=promo...   \n",
      "3     https://www.seek.co.nz/job/50622169?type=stand...   \n",
      "4     https://www.seek.co.nz/job/50639620?type=stand...   \n",
      "5     https://www.seek.co.nz/job/50622432?type=stand...   \n",
      "...                                                 ...   \n",
      "2704  https://www.seek.co.nz/job/50490062?type=stand...   \n",
      "2705  https://www.seek.co.nz/job/50488000?type=stand...   \n",
      "2706  https://www.seek.co.nz/job/50524865?type=stand...   \n",
      "2707  https://www.seek.co.nz/job/50477118?type=stand...   \n",
      "2708  https://www.seek.co.nz/job/50496571?type=stand...   \n",
      "\n",
      "                                             2           area  \\\n",
      "1                                          NaN  Bay of Plenty   \n",
      "2                         Avenues Orthodontics  Bay of Plenty   \n",
      "3                           New Zealand Police       Auckland   \n",
      "4     Kew Pacific Island Early Learning Centre      Southland   \n",
      "5                                          NaN     Canterbury   \n",
      "...                                        ...            ...   \n",
      "2704                     Hays Talent Solutions       Auckland   \n",
      "2705                    one eighty recruitment     Wellington   \n",
      "2706                     Asset Recruitment Ltd        Waikato   \n",
      "2707                     Asset Recruitment Ltd        Waikato   \n",
      "2708                    Alpha Recruitment - NZ     Wellington   \n",
      "\n",
      "                location   salary  low_salary  high_salary  \\\n",
      "1               Tauranga  unknown       69964        46181   \n",
      "2               Tauranga  unknown       69964        46181   \n",
      "3                unknown  unknown       69964        46181   \n",
      "4           Invercargill  unknown       69964        46181   \n",
      "5           Christchurch  unknown       69964        46181   \n",
      "...                  ...      ...         ...          ...   \n",
      "2704    Auckland Central  unknown       69964        46181   \n",
      "2705  Wellington Central  unknown       69964        46181   \n",
      "2706            Hamilton  unknown       69964        46181   \n",
      "2707            Hamilton  unknown       69964        46181   \n",
      "2708             unknown  unknown       69964        46181   \n",
      "\n",
      "                     classification  classification1  \\\n",
      "1                 Office Management   Administration   \n",
      "2                     Receptionists   Administration   \n",
      "3                             Other   Administration   \n",
      "4         Administrative Assistants   Administration   \n",
      "5     Client & Sales Administration   Administration   \n",
      "...                             ...              ...   \n",
      "2704  Client & Sales Administration   Administration   \n",
      "2705                        unknown                    \n",
      "2706                        unknown                    \n",
      "2707                        unknown                    \n",
      "2708           PA, EA & Secretarial   Administration   \n",
      "\n",
      "                   classification2 classification3  \\\n",
      "1     Office SupportAdministration  Office Support   \n",
      "2     Office SupportAdministration  Office Support   \n",
      "3     Office SupportAdministration  Office Support   \n",
      "4     Office SupportAdministration  Office Support   \n",
      "5     Office SupportAdministration  Office Support   \n",
      "...                            ...             ...   \n",
      "2704  Office SupportAdministration  Office Support   \n",
      "2705                       unknown         unknown   \n",
      "2706                       unknown         unknown   \n",
      "2707                       unknown         unknown   \n",
      "2708  Office SupportAdministration  Office Support   \n",
      "\n",
      "                                       company  post_time          feature_at  \n",
      "1                                      unknown          0  Private Advertiser  \n",
      "2                         Avenues Orthodontics          0             unknown  \n",
      "3                           New Zealand Police         -4             unknown  \n",
      "4     Kew Pacific Island Early Learning Centre          0             unknown  \n",
      "5                                      unknown         -4  Private Advertiser  \n",
      "...                                        ...        ...                 ...  \n",
      "2704                     Hays Talent Solutions        -27             unknown  \n",
      "2705                    one eighty recruitment        -27             unknown  \n",
      "2706                     Asset Recruitment Ltd        -20             unknown  \n",
      "2707                     Asset Recruitment Ltd        -28             unknown  \n",
      "2708                    Alpha Recruitment - NZ        -26             unknown  \n",
      "\n",
      "[2708 rows x 15 columns]\n"
     ]
    },
    {
     "name": "stderr",
     "output_type": "stream",
     "text": [
      "/Users/wangzhuoxin/opt/anaconda3/lib/python3.7/site-packages/ipykernel_launcher.py:10: SettingWithCopyWarning: \n",
      "A value is trying to be set on a copy of a slice from a DataFrame\n",
      "\n",
      "See the caveats in the documentation: http://pandas.pydata.org/pandas-docs/stable/user_guide/indexing.html#returning-a-view-versus-a-copy\n",
      "  # Remove the CWD from sys.path while we load stuff.\n"
     ]
    }
   ],
   "source": [
    "print(read_data('/Users/wangzhuoxin/Desktop/project_resource/NZ_Admin_JOBS.csv',\"Admin\"))"
   ]
  }
 ],
 "metadata": {
  "kernelspec": {
   "display_name": "Python 3",
   "language": "python",
   "name": "python3"
  },
  "language_info": {
   "codemirror_mode": {
    "name": "ipython",
    "version": 3
   },
   "file_extension": ".py",
   "mimetype": "text/x-python",
   "name": "python",
   "nbconvert_exporter": "python",
   "pygments_lexer": "ipython3",
   "version": "3.7.4"
  }
 },
 "nbformat": 4,
 "nbformat_minor": 4
}
